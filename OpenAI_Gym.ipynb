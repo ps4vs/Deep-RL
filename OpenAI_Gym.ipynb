{
 "cells": [
  {
   "cell_type": "code",
   "execution_count": 36,
   "metadata": {},
   "outputs": [
    {
     "name": "stdout",
     "output_type": "stream",
     "text": [
      "Requirement already satisfied: gymnasium in /Users/subhashp/.pyenv/versions/3.10.13/lib/python3.10/site-packages (0.29.1)\n",
      "Requirement already satisfied: numpy>=1.21.0 in /Users/subhashp/.pyenv/versions/3.10.13/lib/python3.10/site-packages (from gymnasium) (1.26.2)\n",
      "Requirement already satisfied: cloudpickle>=1.2.0 in /Users/subhashp/.pyenv/versions/3.10.13/lib/python3.10/site-packages (from gymnasium) (3.0.0)\n",
      "Requirement already satisfied: typing-extensions>=4.3.0 in /Users/subhashp/.pyenv/versions/3.10.13/lib/python3.10/site-packages (from gymnasium) (4.8.0)\n",
      "Requirement already satisfied: farama-notifications>=0.0.1 in /Users/subhashp/.pyenv/versions/3.10.13/lib/python3.10/site-packages (from gymnasium) (0.0.4)\n",
      "Note: you may need to restart the kernel to use updated packages.\n",
      "Requirement already satisfied: pygame in /Users/subhashp/.pyenv/versions/3.10.13/lib/python3.10/site-packages (2.5.2)\n",
      "Note: you may need to restart the kernel to use updated packages.\n",
      "Requirement already satisfied: pip in /Users/subhashp/.pyenv/versions/3.10.13/lib/python3.10/site-packages (23.3.1)\n",
      "Requirement already satisfied: setuptools in /Users/subhashp/.pyenv/versions/3.10.13/lib/python3.10/site-packages (69.0.2)\n",
      "Requirement already satisfied: wheel in /Users/subhashp/.pyenv/versions/3.10.13/lib/python3.10/site-packages (0.42.0)\n",
      "Note: you may need to restart the kernel to use updated packages.\n",
      "Requirement already satisfied: opencv-python in /Users/subhashp/.pyenv/versions/3.10.13/lib/python3.10/site-packages (4.8.1.78)\n",
      "Requirement already satisfied: numpy>=1.21.2 in /Users/subhashp/.pyenv/versions/3.10.13/lib/python3.10/site-packages (from opencv-python) (1.26.2)\n",
      "Note: you may need to restart the kernel to use updated packages.\n",
      "Requirement already satisfied: gymnasium[accept-rom-license,atari] in /Users/subhashp/.pyenv/versions/3.10.13/lib/python3.10/site-packages (0.29.1)\n",
      "Requirement already satisfied: numpy>=1.21.0 in /Users/subhashp/.pyenv/versions/3.10.13/lib/python3.10/site-packages (from gymnasium[accept-rom-license,atari]) (1.26.2)\n",
      "Requirement already satisfied: cloudpickle>=1.2.0 in /Users/subhashp/.pyenv/versions/3.10.13/lib/python3.10/site-packages (from gymnasium[accept-rom-license,atari]) (3.0.0)\n",
      "Requirement already satisfied: typing-extensions>=4.3.0 in /Users/subhashp/.pyenv/versions/3.10.13/lib/python3.10/site-packages (from gymnasium[accept-rom-license,atari]) (4.8.0)\n",
      "Requirement already satisfied: farama-notifications>=0.0.1 in /Users/subhashp/.pyenv/versions/3.10.13/lib/python3.10/site-packages (from gymnasium[accept-rom-license,atari]) (0.0.4)\n",
      "Requirement already satisfied: shimmy<1.0,>=0.1.0 in /Users/subhashp/.pyenv/versions/3.10.13/lib/python3.10/site-packages (from shimmy[atari]<1.0,>=0.1.0; extra == \"atari\"->gymnasium[accept-rom-license,atari]) (0.2.1)\n",
      "Requirement already satisfied: autorom~=0.4.2 in /Users/subhashp/.pyenv/versions/3.10.13/lib/python3.10/site-packages (from autorom[accept-rom-license]~=0.4.2; extra == \"accept-rom-license\"->gymnasium[accept-rom-license,atari]) (0.4.2)\n",
      "Requirement already satisfied: click in /Users/subhashp/.pyenv/versions/3.10.13/lib/python3.10/site-packages (from autorom~=0.4.2->autorom[accept-rom-license]~=0.4.2; extra == \"accept-rom-license\"->gymnasium[accept-rom-license,atari]) (8.1.7)\n",
      "Requirement already satisfied: requests in /Users/subhashp/.pyenv/versions/3.10.13/lib/python3.10/site-packages (from autorom~=0.4.2->autorom[accept-rom-license]~=0.4.2; extra == \"accept-rom-license\"->gymnasium[accept-rom-license,atari]) (2.31.0)\n",
      "Requirement already satisfied: tqdm in /Users/subhashp/.pyenv/versions/3.10.13/lib/python3.10/site-packages (from autorom~=0.4.2->autorom[accept-rom-license]~=0.4.2; extra == \"accept-rom-license\"->gymnasium[accept-rom-license,atari]) (4.66.1)\n",
      "Requirement already satisfied: AutoROM.accept-rom-license in /Users/subhashp/.pyenv/versions/3.10.13/lib/python3.10/site-packages (from autorom[accept-rom-license]~=0.4.2; extra == \"accept-rom-license\"->gymnasium[accept-rom-license,atari]) (0.6.1)\n",
      "Requirement already satisfied: ale-py~=0.8.1 in /Users/subhashp/.pyenv/versions/3.10.13/lib/python3.10/site-packages (from shimmy[atari]<1.0,>=0.1.0; extra == \"atari\"->gymnasium[accept-rom-license,atari]) (0.8.1)\n",
      "Requirement already satisfied: importlib-resources in /Users/subhashp/.pyenv/versions/3.10.13/lib/python3.10/site-packages (from ale-py~=0.8.1->shimmy[atari]<1.0,>=0.1.0; extra == \"atari\"->gymnasium[accept-rom-license,atari]) (6.1.1)\n",
      "Requirement already satisfied: charset-normalizer<4,>=2 in /Users/subhashp/.pyenv/versions/3.10.13/lib/python3.10/site-packages (from requests->autorom~=0.4.2->autorom[accept-rom-license]~=0.4.2; extra == \"accept-rom-license\"->gymnasium[accept-rom-license,atari]) (3.3.2)\n",
      "Requirement already satisfied: idna<4,>=2.5 in /Users/subhashp/.pyenv/versions/3.10.13/lib/python3.10/site-packages (from requests->autorom~=0.4.2->autorom[accept-rom-license]~=0.4.2; extra == \"accept-rom-license\"->gymnasium[accept-rom-license,atari]) (3.6)\n",
      "Requirement already satisfied: urllib3<3,>=1.21.1 in /Users/subhashp/.pyenv/versions/3.10.13/lib/python3.10/site-packages (from requests->autorom~=0.4.2->autorom[accept-rom-license]~=0.4.2; extra == \"accept-rom-license\"->gymnasium[accept-rom-license,atari]) (2.1.0)\n",
      "Requirement already satisfied: certifi>=2017.4.17 in /Users/subhashp/.pyenv/versions/3.10.13/lib/python3.10/site-packages (from requests->autorom~=0.4.2->autorom[accept-rom-license]~=0.4.2; extra == \"accept-rom-license\"->gymnasium[accept-rom-license,atari]) (2023.11.17)\n",
      "Note: you may need to restart the kernel to use updated packages.\n",
      "\u001b[31mERROR: Could not find a version that satisfies the requirement inspect (from versions: none)\u001b[0m\u001b[31m\n",
      "\u001b[0m\u001b[31mERROR: No matching distribution found for inspect\u001b[0m\u001b[31m\n",
      "\u001b[0mNote: you may need to restart the kernel to use updated packages.\n"
     ]
    }
   ],
   "source": [
    "%pip install -U gymnasium\n",
    "%pip install pygame\n",
    "%pip install --upgrade pip setuptools wheel\n",
    "%pip install opencv-python\n",
    "%pip install \"gymnasium[atari, accept-rom-license]\"\n",
    "%pip install inspect"
   ]
  },
  {
   "cell_type": "code",
   "execution_count": 2,
   "metadata": {},
   "outputs": [
    {
     "name": "stdout",
     "output_type": "stream",
     "text": [
      "Observation Space : Box([-1.2  -0.07], [0.6  0.07], (2,), float32)\n",
      "Action Space : Discrete(3)\n"
     ]
    }
   ],
   "source": [
    "import gymnasium as gym\n",
    "import pygame\n",
    "from tqdm import trange\n",
    "import matplotlib.pyplot as plt\n",
    "from IPython import display\n",
    "import time\n",
    "%matplotlib inline"
   ]
  },
  {
   "cell_type": "code",
   "execution_count": null,
   "metadata": {},
   "outputs": [],
   "source": [
    "env = gym.make('MountainCar-v0', render_mode='rgb_array')\n",
    "obs_space = env.observation_space\n",
    "action_space = env.action_space\n",
    "# structure and legitimate values for the observation, and action respectively\n",
    "# Box and Discrete are two different data structures implemented in gymnasium library to represent obs-space and act-space for different kind of sceneraios\n",
    "print(\"Observation Space : {}\".format(obs_space))\n",
    "print(\"Action Space : {}\".format(action_space))"
   ]
  },
  {
   "cell_type": "code",
   "execution_count": 3,
   "metadata": {},
   "outputs": [
    {
     "name": "stdout",
     "output_type": "stream",
     "text": [
      "The initial observation is [-0.5472264  0.       ]\n",
      "The new observation is [-5.4704934e-01  1.7705886e-04]\n"
     ]
    }
   ],
   "source": [
    "obs, info = env.reset()\n",
    "print(\"The initial observation is {}\".format(obs))\n",
    "\n",
    "random_action = env.action_space.sample()\n",
    "obs, reward, terminated, truncated, info = env.step(random_action)\n",
    "\n",
    "print(\"The new observation is {}\".format(obs))\n",
    "\n",
    "time.sleep(0.001)\n",
    "pygame.quit()\n",
    "env.close()\n"
   ]
  },
  {
   "cell_type": "code",
   "execution_count": 5,
   "metadata": {},
   "outputs": [
    {
     "data": {
      "image/png": "[encoded data removed]",
      "text/plain": [
       "<Figure size 640x480 with 1 Axes>"
      ]
     },
     "metadata": {},
     "output_type": "display_data"
    }
   ],
   "source": [
    "# if we want to see how environment looks in the current state we can use render\n",
    "# This gives pop-up window, but need to close it using env.close()\n",
    "# env.render(mode='rgb_array')\n",
    "# env.render(mode='human')\n",
    "# We are able to set the render mode at the start only, and after each action render is automatically displayed.\n",
    "\n",
    "timesteps = 1500\n",
    "env = gym.make('MountainCar-v0', render_mode='rgb_array')\n",
    "obs, info = env.reset()\n",
    "\n",
    "for i in range(timesteps):\n",
    "    random_action = env.action_space.sample()\n",
    "    obs, reward, terminated, truncated, info = env.step(random_action)\n",
    "    img = env.render()\n",
    "    plt.imshow(img)\n",
    "    plt.show()\n",
    "    time.sleep(0.001)\n",
    "    if terminated or truncated:\n",
    "        obs, info = env.reset()\n",
    "pygame.quit()\n",
    "env.close()"
   ]
  },
  {
   "cell_type": "code",
   "execution_count": 7,
   "metadata": {},
   "outputs": [
    {
     "name": "stderr",
     "output_type": "stream",
     "text": [
      "objc[14663]: Class SDLApplication is implemented in both /Users/subhashp/.pyenv/versions/3.10.13/lib/python3.10/site-packages/pygame/.dylibs/libSDL2-2.0.0.dylib (0x13f1c12c8) and /Users/subhashp/.pyenv/versions/3.10.13/lib/python3.10/site-packages/ale_py/libSDL2-2.0.dylib (0x16c264080). One of the two will be used. Which one is undefined.\n",
      "objc[14663]: Class SDLAppDelegate is implemented in both /Users/subhashp/.pyenv/versions/3.10.13/lib/python3.10/site-packages/pygame/.dylibs/libSDL2-2.0.0.dylib (0x13f1c1318) and /Users/subhashp/.pyenv/versions/3.10.13/lib/python3.10/site-packages/ale_py/libSDL2-2.0.dylib (0x16c2640d0). One of the two will be used. Which one is undefined.\n",
      "objc[14663]: Class SDLTranslatorResponder is implemented in both /Users/subhashp/.pyenv/versions/3.10.13/lib/python3.10/site-packages/pygame/.dylibs/libSDL2-2.0.0.dylib (0x13f1c1390) and /Users/subhashp/.pyenv/versions/3.10.13/lib/python3.10/site-packages/ale_py/libSDL2-2.0.dylib (0x16c264148). One of the two will be used. Which one is undefined.\n",
      "objc[14663]: Class SDLMessageBoxPresenter is implemented in both /Users/subhashp/.pyenv/versions/3.10.13/lib/python3.10/site-packages/pygame/.dylibs/libSDL2-2.0.0.dylib (0x13f1c13b8) and /Users/subhashp/.pyenv/versions/3.10.13/lib/python3.10/site-packages/ale_py/libSDL2-2.0.dylib (0x16c264170). One of the two will be used. Which one is undefined.\n",
      "objc[14663]: Class SDL_cocoametalview is implemented in both /Users/subhashp/.pyenv/versions/3.10.13/lib/python3.10/site-packages/pygame/.dylibs/libSDL2-2.0.0.dylib (0x13f1c1408) and /Users/subhashp/.pyenv/versions/3.10.13/lib/python3.10/site-packages/ale_py/libSDL2-2.0.dylib (0x16c2641c0). One of the two will be used. Which one is undefined.\n",
      "objc[14663]: Class SDLOpenGLContext is implemented in both /Users/subhashp/.pyenv/versions/3.10.13/lib/python3.10/site-packages/pygame/.dylibs/libSDL2-2.0.0.dylib (0x13f1c1458) and /Users/subhashp/.pyenv/versions/3.10.13/lib/python3.10/site-packages/ale_py/libSDL2-2.0.dylib (0x16c264210). One of the two will be used. Which one is undefined.\n",
      "objc[14663]: Class SDLWindow is implemented in both /Users/subhashp/.pyenv/versions/3.10.13/lib/python3.10/site-packages/pygame/.dylibs/libSDL2-2.0.0.dylib (0x13f1c15e8) and /Users/subhashp/.pyenv/versions/3.10.13/lib/python3.10/site-packages/ale_py/libSDL2-2.0.dylib (0x16c264260). One of the two will be used. Which one is undefined.\n",
      "objc[14663]: Class Cocoa_WindowListener is implemented in both /Users/subhashp/.pyenv/versions/3.10.13/lib/python3.10/site-packages/pygame/.dylibs/libSDL2-2.0.0.dylib (0x13f1c1610) and /Users/subhashp/.pyenv/versions/3.10.13/lib/python3.10/site-packages/ale_py/libSDL2-2.0.dylib (0x16c264288). One of the two will be used. Which one is undefined.\n",
      "objc[14663]: Class SDLView is implemented in both /Users/subhashp/.pyenv/versions/3.10.13/lib/python3.10/site-packages/pygame/.dylibs/libSDL2-2.0.0.dylib (0x13f1c1688) and /Users/subhashp/.pyenv/versions/3.10.13/lib/python3.10/site-packages/ale_py/libSDL2-2.0.dylib (0x16c264300). One of the two will be used. Which one is undefined.\n",
      "objc[14663]: Class METAL_RenderData is implemented in both /Users/subhashp/.pyenv/versions/3.10.13/lib/python3.10/site-packages/pygame/.dylibs/libSDL2-2.0.0.dylib (0x13f1c1700) and /Users/subhashp/.pyenv/versions/3.10.13/lib/python3.10/site-packages/ale_py/libSDL2-2.0.dylib (0x16c264350). One of the two will be used. Which one is undefined.\n",
      "objc[14663]: Class METAL_TextureData is implemented in both /Users/subhashp/.pyenv/versions/3.10.13/lib/python3.10/site-packages/pygame/.dylibs/libSDL2-2.0.0.dylib (0x13f1c1750) and /Users/subhashp/.pyenv/versions/3.10.13/lib/python3.10/site-packages/ale_py/libSDL2-2.0.dylib (0x16c2643a0). One of the two will be used. Which one is undefined.\n"
     ]
    },
    {
     "name": "stdout",
     "output_type": "stream",
     "text": [
      "Observation Space is Box(0, 255, (210, 160, 3), uint8)\n",
      "Action Space is Discrete(4)\n"
     ]
    },
    {
     "name": "stderr",
     "output_type": "stream",
     "text": [
      "/Users/subhashp/.pyenv/versions/3.10.13/lib/python3.10/site-packages/gymnasium/utils/passive_env_checker.py:335: UserWarning: \u001b[33mWARN: No render fps was declared in the environment (env.metadata['render_fps'] is None or not defined), rendering may occur at inconsistent fps.\u001b[0m\n",
      "  logger.warn(\n"
     ]
    }
   ],
   "source": [
    "# Wrapper\n",
    "# it is provides functionality to modity various parts of environment based on our needs, this can be done by creating subclass of the Env too.\n",
    "# There is another main complex scenarious where we will appreciate the use of wrapper.\n",
    "env = gym.make('BreakoutNoFrameskip-v4', render_mode='human')\n",
    "\n",
    "print(\"Observation Space is {}\".format(env.observation_space))\n",
    "print(\"Action Space is {}\".format(env.action_space))\n",
    "\n",
    "obs, info = env.reset()\n",
    "for i in range(1000):\n",
    "    action = env.action_space.sample()\n",
    "    obs, reward, terminated, truncated, info = env.step(action)\n",
    "    env.render()\n",
    "    time.sleep(0.01)\n",
    "    if terminated or truncated:\n",
    "        obs, info = env.reset()\n",
    "pygame.quit()\n",
    "env.close()"
   ]
  },
  {
   "cell_type": "code",
   "execution_count": 48,
   "metadata": {},
   "outputs": [
    {
     "data": {
      "text/plain": [
       "[__main__.ConcatObs,\n",
       " gymnasium.core.Wrapper,\n",
       " gymnasium.core.Env,\n",
       " typing.Generic,\n",
       " object]"
      ]
     },
     "execution_count": 48,
     "metadata": {},
     "output_type": "execute_result"
    }
   ],
   "source": [
    "# We can define a class of type gym.Wrapper and override the reset and return functions of the Breakout Env.\n",
    "\n",
    "from collections import deque\n",
    "from gym import spaces\n",
    "import numpy as np\n",
    "\n",
    "class ConcatObs(gym.Wrapper):\n",
    "    def __init__(self):\n",
    "        # gym.Wrapper.__init__(self, env)\n",
    "        print(super())\n",
    "        return\n",
    "\n",
    "obs = ConcatObs()"
   ]
  },
  {
   "cell_type": "code",
   "execution_count": 49,
   "metadata": {},
   "outputs": [
    {
     "ename": "TypeError",
     "evalue": "Wrapper.__init__() missing 2 required positional arguments: 'self' and 'env'",
     "output_type": "error",
     "traceback": [
      "\u001b[0;31m---------------------------------------------------------------------------\u001b[0m",
      "\u001b[0;31mTypeError\u001b[0m                                 Traceback (most recent call last)",
      "\u001b[1;32m/Users/subhashp/Documents/Open-Source/Deep-RL/OpenAI_Gym.ipynb Cell 8\u001b[0m line \u001b[0;36m1\n\u001b[0;32m----> <a href='vscode-notebook-cell:/Users/subhashp/Documents/Open-Source/Deep-RL/OpenAI_Gym.ipynb#X11sZmlsZQ%3D%3D?line=0'>1</a>\u001b[0m ConcatObs()\n",
      "\u001b[1;32m/Users/subhashp/Documents/Open-Source/Deep-RL/OpenAI_Gym.ipynb Cell 8\u001b[0m line \u001b[0;36m1\n\u001b[1;32m      <a href='vscode-notebook-cell:/Users/subhashp/Documents/Open-Source/Deep-RL/OpenAI_Gym.ipynb#X11sZmlsZQ%3D%3D?line=7'>8</a>\u001b[0m \u001b[39mdef\u001b[39;00m \u001b[39m__init__\u001b[39m(\u001b[39mself\u001b[39m):\n\u001b[1;32m      <a href='vscode-notebook-cell:/Users/subhashp/Documents/Open-Source/Deep-RL/OpenAI_Gym.ipynb#X11sZmlsZQ%3D%3D?line=8'>9</a>\u001b[0m     \u001b[39m# gym.Wrapper.__init__(self, env)\u001b[39;00m\n\u001b[0;32m---> <a href='vscode-notebook-cell:/Users/subhashp/Documents/Open-Source/Deep-RL/OpenAI_Gym.ipynb#X11sZmlsZQ%3D%3D?line=9'>10</a>\u001b[0m     gym\u001b[39m.\u001b[39;49mWrapper\u001b[39m.\u001b[39;49m\u001b[39m__init__\u001b[39;49m()\n\u001b[1;32m     <a href='vscode-notebook-cell:/Users/subhashp/Documents/Open-Source/Deep-RL/OpenAI_Gym.ipynb#X11sZmlsZQ%3D%3D?line=10'>11</a>\u001b[0m     \u001b[39mreturn\u001b[39;00m\n",
      "\u001b[0;31mTypeError\u001b[0m: Wrapper.__init__() missing 2 required positional arguments: 'self' and 'env'"
     ]
    }
   ],
   "source": [
    "ConcatObs()"
   ]
  },
  {
   "cell_type": "code",
   "execution_count": 50,
   "metadata": {},
   "outputs": [
    {
     "name": "stdout",
     "output_type": "stream",
     "text": [
      "<super: <class 'dog'>, <dog object>>\n"
     ]
    }
   ],
   "source": [
    "import inspect\n",
    "\n",
    "class animal():\n",
    "    def __init__(self, x):\n",
    "        self.x = x\n",
    "        print(\"animal\")\n",
    "\n",
    "class dog(animal):\n",
    "    def __init__(self):\n",
    "        print(super())\n",
    "x = dog()"
   ]
  },
  {
   "cell_type": "code",
   "execution_count": null,
   "metadata": {},
   "outputs": [],
   "source": []
  }
 ],
 "metadata": {
  "kernelspec": {
   "display_name": "Python 3",
   "language": "python",
   "name": "python3"
  },
  "language_info": {
   "codemirror_mode": {
    "name": "ipython",
    "version": 3
   },
   "file_extension": ".py",
   "mimetype": "text/x-python",
   "name": "python",
   "nbconvert_exporter": "python",
   "pygments_lexer": "ipython3",
   "version": "3.10.13"
  }
 },
 "nbformat": 4,
 "nbformat_minor": 2
}
